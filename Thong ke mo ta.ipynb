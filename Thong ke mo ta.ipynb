{
 "cells": [
  {
   "cell_type": "markdown",
   "metadata": {},
   "source": [
    "# Thống kê mô tả\n",
    "\n",
    "Một vận động viên (VDV) bơi lội 200m hỗn hợp có thành tích như sau: \n",
    "\n",
    "50m bơi bướm với vận tốc 1.92m/s,\n",
    "\n",
    "50m bơi ngửa với vận tốc 1.67m/s,\n",
    "\n",
    "50m bơi ếch với vận tốc 1.56m/s,\n",
    "\n",
    "50m bơi tự do với vận tốc 1.85m/s,\n",
    "\n",
    "Hãy dùng 1 hàm tính trị trung bình (không dùng công thức) để tính vận tốc trung bình của VDV.\n"
   ]
  },
  {
   "cell_type": "code",
   "execution_count": 3,
   "metadata": {
    "executionInfo": {
     "elapsed": 712,
     "status": "ok",
     "timestamp": 1652009721006,
     "user": {
      "displayName": "Phuoc Tri Vo",
      "userId": "16150899667672929104"
     },
     "user_tz": -420
    },
    "id": "GFEBLM3tyJiB"
   },
   "outputs": [],
   "source": [
    "#Import các thư viện cần thiết\n",
    "import numpy as np\n",
    "import pandas as pd\n",
    "from numpy.linalg import norm"
   ]
  },
  {
   "cell_type": "code",
   "execution_count": 4,
   "metadata": {
    "colab": {
     "base_uri": "https://localhost:8080/"
    },
    "executionInfo": {
     "elapsed": 5,
     "status": "ok",
     "timestamp": 1652009721007,
     "user": {
      "displayName": "Phuoc Tri Vo",
      "userId": "16150899667672929104"
     },
     "user_tz": -420
    },
    "id": "e7s7XQKRruc6",
    "outputId": "ebe99b54-9d70-4926-a090-15fb810f02ec"
   },
   "outputs": [
    {
     "data": {
      "text/plain": [
       "1.7382220927369072"
      ]
     },
     "execution_count": 4,
     "metadata": {},
     "output_type": "execute_result"
    }
   ],
   "source": [
    "###Cau 4 - THONG KE MO TA ###\n",
    "mot = np.array([50, 1.92])\n",
    "hai = np.array([50, 1.67])\n",
    "ba = np.array([50, 1.56])\n",
    "bon = np.array([50, 1.85])\n",
    "\n",
    "mean = scipy.stats.hmean([mot, hai, ba, bon])\n",
    "mean[1]"
   ]
  },
  {
   "cell_type": "markdown",
   "metadata": {
    "id": "SQb2lRwOs0Du"
   },
   "source": [
    "Sử dụng harmonic mean ta có vận tốc trung bình của vận động viên là 1,73"
   ]
  }
 ],
 "metadata": {
  "colab": {
   "authorship_tag": "ABX9TyOllXDW5rDduAh8Z2ZzQxxh",
   "collapsed_sections": [],
   "name": "Cau4.ipynb",
   "provenance": []
  },
  "kernelspec": {
   "display_name": "Python 3 (ipykernel)",
   "language": "python",
   "name": "python3"
  },
  "language_info": {
   "codemirror_mode": {
    "name": "ipython",
    "version": 3
   },
   "file_extension": ".py",
   "mimetype": "text/x-python",
   "name": "python",
   "nbconvert_exporter": "python",
   "pygments_lexer": "ipython3",
   "version": "3.8.12"
  }
 },
 "nbformat": 4,
 "nbformat_minor": 1
}
