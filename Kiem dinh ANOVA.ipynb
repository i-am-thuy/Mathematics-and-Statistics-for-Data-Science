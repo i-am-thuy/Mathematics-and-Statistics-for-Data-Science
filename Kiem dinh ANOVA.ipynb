{
 "cells": [
  {
   "cell_type": "markdown",
   "metadata": {},
   "source": [
    "# Kiểm định ANOVA\n",
    "\n",
    "Tập tin ‘Samples.txt’ lưu trữ 4 mẫu dữ liệu được lấy từ các quần thể đều có phân phối chuẩn.\n",
    "\n",
    "6.1) Với alpha = 5%, hãy kiểm định giả thuyết H0: “Các quần thể có cùng phương sai.”\n",
    "\n",
    "6.2) Với alpha = 5%, hãy kiểm định giả thuyết H0: “Các quần thể có cùng giá trị trung bình.”\n",
    "\n",
    "6.3) Nếu bác bỏ giả thuyết H0 trong câu, hãy cho biết những quần thể nào có sự khác biệt về giá trị trung bình.\n"
   ]
  },
  {
   "cell_type": "code",
   "execution_count": 1,
   "metadata": {
    "colab": {
     "base_uri": "https://localhost:8080/"
    },
    "executionInfo": {
     "elapsed": 20002,
     "status": "ok",
     "timestamp": 1652012032415,
     "user": {
      "displayName": "Phuoc Tri Vo",
      "userId": "16150899667672929104"
     },
     "user_tz": -420
    },
    "id": "fW7zjswhsXvE",
    "outputId": "bee7980b-9373-40fc-fca5-a1fdcbefd063"
   },
   "outputs": [
    {
     "name": "stdout",
     "output_type": "stream",
     "text": [
      "Mounted at /content/drive\n",
      "\u001b[0m\u001b[01;34mdrive\u001b[0m/  \u001b[01;34msample_data\u001b[0m/\n",
      "/root\n"
     ]
    }
   ],
   "source": [
    "from google.colab import drive\n",
    "drive.mount(\"/content/drive\")\n",
    "\n",
    "%pwd\n",
    "%ls\n",
    "%cd \n",
    "%ls"
   ]
  },
  {
   "cell_type": "code",
   "execution_count": 2,
   "metadata": {
    "colab": {
     "base_uri": "https://localhost:8080/"
    },
    "executionInfo": {
     "elapsed": 12,
     "status": "ok",
     "timestamp": 1652012032416,
     "user": {
      "displayName": "Phuoc Tri Vo",
      "userId": "16150899667672929104"
     },
     "user_tz": -420
    },
    "id": "xKlTqz61ssuv",
    "outputId": "adb863bb-9d49-439e-f906-f904280a8283"
   },
   "outputs": [
    {
     "name": "stdout",
     "output_type": "stream",
     "text": [
      "['Duong_huyet_SAU.txt', 'Duong_huyet_TRUOC.txt', 'Samples.txt', 'Breast Cancer WI.csv', 'IQ6.xls']\n"
     ]
    }
   ],
   "source": [
    "import os\n",
    "path = \"/content/drive/My Drive/bai_thi_lds3/LDS3. De thi cuoi khoa K274/\"\n",
    "folder = \"Data/\"\n",
    "os.chdir(path)\n",
    "files = os.listdir(folder)\n",
    "print(files)"
   ]
  },
  {
   "cell_type": "code",
   "execution_count": 3,
   "metadata": {
    "executionInfo": {
     "elapsed": 917,
     "status": "ok",
     "timestamp": 1652012033328,
     "user": {
      "displayName": "Phuoc Tri Vo",
      "userId": "16150899667672929104"
     },
     "user_tz": -420
    },
    "id": "GFEBLM3tyJiB"
   },
   "outputs": [],
   "source": [
    "#Import các thư viện cần thiết\n",
    "import numpy as np\n",
    "import pandas as pd\n",
    "from numpy.linalg import norm\n",
    "import matplotlib.pyplot as plt"
   ]
  },
  {
   "cell_type": "code",
   "execution_count": 4,
   "metadata": {
    "colab": {
     "base_uri": "https://localhost:8080/",
     "height": 514
    },
    "executionInfo": {
     "elapsed": 551,
     "status": "ok",
     "timestamp": 1652012033873,
     "user": {
      "displayName": "Phuoc Tri Vo",
      "userId": "16150899667672929104"
     },
     "user_tz": -420
    },
    "id": "y5IRWgtJIErs",
    "outputId": "b3f7ef8d-6425-4f18-83dc-517f2f8d6f31"
   },
   "outputs": [
    {
     "data": {
      "text/html": [
       "\n",
       "  <div id=\"df-281c7aa4-c87b-47e0-8c13-167c180a7138\">\n",
       "    <div class=\"colab-df-container\">\n",
       "      <div>\n",
       "<style scoped>\n",
       "    .dataframe tbody tr th:only-of-type {\n",
       "        vertical-align: middle;\n",
       "    }\n",
       "\n",
       "    .dataframe tbody tr th {\n",
       "        vertical-align: top;\n",
       "    }\n",
       "\n",
       "    .dataframe thead th {\n",
       "        text-align: right;\n",
       "    }\n",
       "</style>\n",
       "<table border=\"1\" class=\"dataframe\">\n",
       "  <thead>\n",
       "    <tr style=\"text-align: right;\">\n",
       "      <th></th>\n",
       "      <th>A</th>\n",
       "      <th>B</th>\n",
       "      <th>C</th>\n",
       "      <th>D</th>\n",
       "    </tr>\n",
       "  </thead>\n",
       "  <tbody>\n",
       "    <tr>\n",
       "      <th>0</th>\n",
       "      <td>93</td>\n",
       "      <td>85.0</td>\n",
       "      <td>100.0</td>\n",
       "      <td>96.0</td>\n",
       "    </tr>\n",
       "    <tr>\n",
       "      <th>1</th>\n",
       "      <td>120</td>\n",
       "      <td>45.0</td>\n",
       "      <td>75.0</td>\n",
       "      <td>58.0</td>\n",
       "    </tr>\n",
       "    <tr>\n",
       "      <th>2</th>\n",
       "      <td>65</td>\n",
       "      <td>80.0</td>\n",
       "      <td>65.0</td>\n",
       "      <td>95.0</td>\n",
       "    </tr>\n",
       "    <tr>\n",
       "      <th>3</th>\n",
       "      <td>105</td>\n",
       "      <td>28.0</td>\n",
       "      <td>40.0</td>\n",
       "      <td>90.0</td>\n",
       "    </tr>\n",
       "    <tr>\n",
       "      <th>4</th>\n",
       "      <td>115</td>\n",
       "      <td>75.0</td>\n",
       "      <td>73.0</td>\n",
       "      <td>65.0</td>\n",
       "    </tr>\n",
       "    <tr>\n",
       "      <th>5</th>\n",
       "      <td>82</td>\n",
       "      <td>70.0</td>\n",
       "      <td>65.0</td>\n",
       "      <td>80.0</td>\n",
       "    </tr>\n",
       "    <tr>\n",
       "      <th>6</th>\n",
       "      <td>99</td>\n",
       "      <td>65.0</td>\n",
       "      <td>50.0</td>\n",
       "      <td>85.0</td>\n",
       "    </tr>\n",
       "    <tr>\n",
       "      <th>7</th>\n",
       "      <td>87</td>\n",
       "      <td>55.0</td>\n",
       "      <td>30.0</td>\n",
       "      <td>95.0</td>\n",
       "    </tr>\n",
       "    <tr>\n",
       "      <th>8</th>\n",
       "      <td>100</td>\n",
       "      <td>50.0</td>\n",
       "      <td>45.0</td>\n",
       "      <td>82.0</td>\n",
       "    </tr>\n",
       "    <tr>\n",
       "      <th>9</th>\n",
       "      <td>90</td>\n",
       "      <td>40.0</td>\n",
       "      <td>50.0</td>\n",
       "      <td>NaN</td>\n",
       "    </tr>\n",
       "    <tr>\n",
       "      <th>10</th>\n",
       "      <td>78</td>\n",
       "      <td>NaN</td>\n",
       "      <td>45.0</td>\n",
       "      <td>NaN</td>\n",
       "    </tr>\n",
       "    <tr>\n",
       "      <th>11</th>\n",
       "      <td>95</td>\n",
       "      <td>NaN</td>\n",
       "      <td>55.0</td>\n",
       "      <td>NaN</td>\n",
       "    </tr>\n",
       "    <tr>\n",
       "      <th>12</th>\n",
       "      <td>93</td>\n",
       "      <td>NaN</td>\n",
       "      <td>NaN</td>\n",
       "      <td>NaN</td>\n",
       "    </tr>\n",
       "    <tr>\n",
       "      <th>13</th>\n",
       "      <td>88</td>\n",
       "      <td>NaN</td>\n",
       "      <td>NaN</td>\n",
       "      <td>NaN</td>\n",
       "    </tr>\n",
       "    <tr>\n",
       "      <th>14</th>\n",
       "      <td>110</td>\n",
       "      <td>NaN</td>\n",
       "      <td>NaN</td>\n",
       "      <td>NaN</td>\n",
       "    </tr>\n",
       "  </tbody>\n",
       "</table>\n",
       "</div>\n",
       "      <button class=\"colab-df-convert\" onclick=\"convertToInteractive('df-281c7aa4-c87b-47e0-8c13-167c180a7138')\"\n",
       "              title=\"Convert this dataframe to an interactive table.\"\n",
       "              style=\"display:none;\">\n",
       "        \n",
       "  <svg xmlns=\"http://www.w3.org/2000/svg\" height=\"24px\"viewBox=\"0 0 24 24\"\n",
       "       width=\"24px\">\n",
       "    <path d=\"M0 0h24v24H0V0z\" fill=\"none\"/>\n",
       "    <path d=\"M18.56 5.44l.94 2.06.94-2.06 2.06-.94-2.06-.94-.94-2.06-.94 2.06-2.06.94zm-11 1L8.5 8.5l.94-2.06 2.06-.94-2.06-.94L8.5 2.5l-.94 2.06-2.06.94zm10 10l.94 2.06.94-2.06 2.06-.94-2.06-.94-.94-2.06-.94 2.06-2.06.94z\"/><path d=\"M17.41 7.96l-1.37-1.37c-.4-.4-.92-.59-1.43-.59-.52 0-1.04.2-1.43.59L10.3 9.45l-7.72 7.72c-.78.78-.78 2.05 0 2.83L4 21.41c.39.39.9.59 1.41.59.51 0 1.02-.2 1.41-.59l7.78-7.78 2.81-2.81c.8-.78.8-2.07 0-2.86zM5.41 20L4 18.59l7.72-7.72 1.47 1.35L5.41 20z\"/>\n",
       "  </svg>\n",
       "      </button>\n",
       "      \n",
       "  <style>\n",
       "    .colab-df-container {\n",
       "      display:flex;\n",
       "      flex-wrap:wrap;\n",
       "      gap: 12px;\n",
       "    }\n",
       "\n",
       "    .colab-df-convert {\n",
       "      background-color: #E8F0FE;\n",
       "      border: none;\n",
       "      border-radius: 50%;\n",
       "      cursor: pointer;\n",
       "      display: none;\n",
       "      fill: #1967D2;\n",
       "      height: 32px;\n",
       "      padding: 0 0 0 0;\n",
       "      width: 32px;\n",
       "    }\n",
       "\n",
       "    .colab-df-convert:hover {\n",
       "      background-color: #E2EBFA;\n",
       "      box-shadow: 0px 1px 2px rgba(60, 64, 67, 0.3), 0px 1px 3px 1px rgba(60, 64, 67, 0.15);\n",
       "      fill: #174EA6;\n",
       "    }\n",
       "\n",
       "    [theme=dark] .colab-df-convert {\n",
       "      background-color: #3B4455;\n",
       "      fill: #D2E3FC;\n",
       "    }\n",
       "\n",
       "    [theme=dark] .colab-df-convert:hover {\n",
       "      background-color: #434B5C;\n",
       "      box-shadow: 0px 1px 3px 1px rgba(0, 0, 0, 0.15);\n",
       "      filter: drop-shadow(0px 1px 2px rgba(0, 0, 0, 0.3));\n",
       "      fill: #FFFFFF;\n",
       "    }\n",
       "  </style>\n",
       "\n",
       "      <script>\n",
       "        const buttonEl =\n",
       "          document.querySelector('#df-281c7aa4-c87b-47e0-8c13-167c180a7138 button.colab-df-convert');\n",
       "        buttonEl.style.display =\n",
       "          google.colab.kernel.accessAllowed ? 'block' : 'none';\n",
       "\n",
       "        async function convertToInteractive(key) {\n",
       "          const element = document.querySelector('#df-281c7aa4-c87b-47e0-8c13-167c180a7138');\n",
       "          const dataTable =\n",
       "            await google.colab.kernel.invokeFunction('convertToInteractive',\n",
       "                                                     [key], {});\n",
       "          if (!dataTable) return;\n",
       "\n",
       "          const docLinkHtml = 'Like what you see? Visit the ' +\n",
       "            '<a target=\"_blank\" href=https://colab.research.google.com/notebooks/data_table.ipynb>data table notebook</a>'\n",
       "            + ' to learn more about interactive tables.';\n",
       "          element.innerHTML = '';\n",
       "          dataTable['output_type'] = 'display_data';\n",
       "          await google.colab.output.renderOutput(dataTable, element);\n",
       "          const docLink = document.createElement('div');\n",
       "          docLink.innerHTML = docLinkHtml;\n",
       "          element.appendChild(docLink);\n",
       "        }\n",
       "      </script>\n",
       "    </div>\n",
       "  </div>\n",
       "  "
      ],
      "text/plain": [
       "      A     B      C     D\n",
       "0    93  85.0  100.0  96.0\n",
       "1   120  45.0   75.0  58.0\n",
       "2    65  80.0   65.0  95.0\n",
       "3   105  28.0   40.0  90.0\n",
       "4   115  75.0   73.0  65.0\n",
       "5    82  70.0   65.0  80.0\n",
       "6    99  65.0   50.0  85.0\n",
       "7    87  55.0   30.0  95.0\n",
       "8   100  50.0   45.0  82.0\n",
       "9    90  40.0   50.0   NaN\n",
       "10   78   NaN   45.0   NaN\n",
       "11   95   NaN   55.0   NaN\n",
       "12   93   NaN    NaN   NaN\n",
       "13   88   NaN    NaN   NaN\n",
       "14  110   NaN    NaN   NaN"
      ]
     },
     "execution_count": 4,
     "metadata": {},
     "output_type": "execute_result"
    }
   ],
   "source": [
    "### CAU 6 - KIEM DINH ANOVA ###\n",
    "data_6 = pd.read_csv(folder+files[2], sep=\"\\t\")\n",
    "data_6"
   ]
  },
  {
   "cell_type": "code",
   "execution_count": 5,
   "metadata": {
    "colab": {
     "base_uri": "https://localhost:8080/"
    },
    "executionInfo": {
     "elapsed": 18,
     "status": "ok",
     "timestamp": 1652012033874,
     "user": {
      "displayName": "Phuoc Tri Vo",
      "userId": "16150899667672929104"
     },
     "user_tz": -420
    },
    "id": "a9sSvDv5IV_d",
    "outputId": "85dc97dc-007c-4cb3-c1e1-66015b77c7aa"
   },
   "outputs": [
    {
     "name": "stdout",
     "output_type": "stream",
     "text": [
      "Khong bac bo gia thiet H0: Các quần thể có cùng phương sai.\n"
     ]
    }
   ],
   "source": [
    "#6.1 Giả thuyết H0: “Các quần thể có cùng phương sai.”\n",
    "test_6a = scipy.stats.levene(data_6[\"A\"].dropna(), data_6[\"B\"].dropna(), data_6[\"C\"].dropna(), data_6[\"D\"].dropna())\n",
    "if test_6a[1] < 0.05:\n",
    "  print(\"Bac bo gia thiet H0: Các quần thể có cùng phương sai.\")\n",
    "else:\n",
    "  print(\"Khong bac bo gia thiet H0: Các quần thể có cùng phương sai.\")\n"
   ]
  },
  {
   "cell_type": "code",
   "execution_count": 6,
   "metadata": {
    "colab": {
     "base_uri": "https://localhost:8080/"
    },
    "executionInfo": {
     "elapsed": 13,
     "status": "ok",
     "timestamp": 1652012033874,
     "user": {
      "displayName": "Phuoc Tri Vo",
      "userId": "16150899667672929104"
     },
     "user_tz": -420
    },
    "id": "GhFlkeNJK7jT",
    "outputId": "92bcf633-8a9e-4055-f58c-7650e00a2e50"
   },
   "outputs": [
    {
     "name": "stdout",
     "output_type": "stream",
     "text": [
      "Bac bo gia thiet H0: Các quần thể có cùng giá trị trung bình.\n"
     ]
    }
   ],
   "source": [
    "#6.2 Giả thuyết H0: “Các quần thể có cùng phương sai.”\n",
    "test_6a = scipy.stats.f_oneway(data_6[\"A\"].dropna(), data_6[\"B\"].dropna(), data_6[\"C\"].dropna(), data_6[\"D\"].dropna())\n",
    "if test_6a[1] < 0.05:\n",
    "  print(\"Bac bo gia thiet H0: Các quần thể có cùng giá trị trung bình.\")\n",
    "else:\n",
    "  print(\"Khong bac bo gia thiet H0: Các quần thể có cùng giá trị trung bình.\")\n"
   ]
  },
  {
   "cell_type": "code",
   "execution_count": 7,
   "metadata": {
    "colab": {
     "base_uri": "https://localhost:8080/"
    },
    "executionInfo": {
     "elapsed": 10,
     "status": "ok",
     "timestamp": 1652012033875,
     "user": {
      "displayName": "Phuoc Tri Vo",
      "userId": "16150899667672929104"
     },
     "user_tz": -420
    },
    "id": "3mv0h-65MTpg",
    "outputId": "7edb63a1-b977-48b5-e9e8-52190c30b79a"
   },
   "outputs": [
    {
     "name": "stdout",
     "output_type": "stream",
     "text": [
      " Multiple Comparison of Means - Tukey HSD, FWER=0.05  \n",
      "======================================================\n",
      "group1 group2 meandiff p-adj   lower    upper   reject\n",
      "------------------------------------------------------\n",
      "     A      B -35.3667  0.001 -53.4103  -17.323   True\n",
      "     A      C -36.9167  0.001 -54.0344 -19.7989   True\n",
      "     A      D -11.7778 0.3415 -30.4132   6.8577  False\n",
      "     B      C    -1.55    0.9 -20.4744  17.3744  False\n",
      "     B      D  23.5889 0.0171   3.2814  43.8964   True\n",
      "     C      D  25.1389 0.0068   5.6495  44.6283   True\n",
      "------------------------------------------------------\n"
     ]
    },
    {
     "name": "stderr",
     "output_type": "stream",
     "text": [
      "/usr/local/lib/python3.7/dist-packages/statsmodels/tools/_testing.py:19: FutureWarning: pandas.util.testing is deprecated. Use the functions in the public API at pandas.testing instead.\n",
      "  import pandas.util.testing as tm\n"
     ]
    }
   ],
   "source": [
    "#6.3 Nếu bác bỏ giả thuyết H0 trong câu 6.2), hãy cho biết những quần thể nào có sự khác biệt về giá trị trung bình.\n",
    "data_6_melt = pd.melt(data_6.reset_index(), id_vars=[\"index\"], value_vars=[\"A\", \"B\", \"C\", \"D\"]).dropna()\n",
    "data_6_melt.columns = [\"index\", \"treatments\", \"value\"]\n",
    "\n",
    "from statsmodels.stats.multicomp import pairwise_tukeyhsd\n",
    "m_comp = pairwise_tukeyhsd(endog=data_6_melt[\"value\"], groups=data_6_melt[\"treatments\"], alpha=0.05)\n",
    "print(m_comp)"
   ]
  },
  {
   "cell_type": "markdown",
   "metadata": {
    "id": "4V56_aT-O0PZ"
   },
   "source": [
    "Bảng kết quả chỉ ra rằng cặp A-B, A-C, B-D, C-D là True. Như vậy có sự khác biệt đáng kể về giá trị trung bình ở hai cặp này."
   ]
  }
 ],
 "metadata": {
  "colab": {
   "authorship_tag": "ABX9TyN+KWl7SRa5nZz2aPnbSX1R",
   "collapsed_sections": [],
   "name": "Cau6.ipynb",
   "provenance": []
  },
  "kernelspec": {
   "display_name": "Python 3 (ipykernel)",
   "language": "python",
   "name": "python3"
  },
  "language_info": {
   "codemirror_mode": {
    "name": "ipython",
    "version": 3
   },
   "file_extension": ".py",
   "mimetype": "text/x-python",
   "name": "python",
   "nbconvert_exporter": "python",
   "pygments_lexer": "ipython3",
   "version": "3.8.12"
  }
 },
 "nbformat": 4,
 "nbformat_minor": 1
}
