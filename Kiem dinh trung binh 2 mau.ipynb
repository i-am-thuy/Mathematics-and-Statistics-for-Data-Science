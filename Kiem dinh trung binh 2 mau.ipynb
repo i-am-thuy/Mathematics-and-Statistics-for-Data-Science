{
 "cells": [
  {
   "cell_type": "markdown",
   "metadata": {},
   "source": [
    "# Kiểm định trung bình hai mẫu\n",
    "\n",
    "Hai tập tin Duong_huyet_TRUOC.txt và Duong_huyet_SAU.txt lưu trữ 2 mẫu dữ liệu về chỉ số đường huyết \n",
    "(mg/dL) của các bệnh nhân được đo trước và sau khi sử dụng loại thuốc T.\n",
    "\n",
    "5.1) Đọc và xem thông tin của dữ liệu.\n",
    "\n",
    "5.2) Với alpha = 5%, hãy kiểm định giả thuyết H0: “Hai quần thể có cùng giá trị trung bình.”."
   ]
  },
  {
   "cell_type": "code",
   "execution_count": 1,
   "metadata": {
    "colab": {
     "base_uri": "https://localhost:8080/"
    },
    "executionInfo": {
     "elapsed": 19573,
     "status": "ok",
     "timestamp": 1652011783172,
     "user": {
      "displayName": "Phuoc Tri Vo",
      "userId": "16150899667672929104"
     },
     "user_tz": -420
    },
    "id": "fW7zjswhsXvE",
    "outputId": "f10ff934-babf-4b27-b130-1cc5a595b886"
   },
   "outputs": [
    {
     "name": "stdout",
     "output_type": "stream",
     "text": [
      "Mounted at /content/drive\n",
      "\u001b[0m\u001b[01;34mdrive\u001b[0m/  \u001b[01;34msample_data\u001b[0m/\n",
      "/root\n"
     ]
    }
   ],
   "source": [
    "from google.colab import drive\n",
    "drive.mount(\"/content/drive\")\n",
    "\n",
    "%pwd\n",
    "%ls\n",
    "%cd \n",
    "%ls"
   ]
  },
  {
   "cell_type": "code",
   "execution_count": 2,
   "metadata": {
    "colab": {
     "base_uri": "https://localhost:8080/"
    },
    "executionInfo": {
     "elapsed": 442,
     "status": "ok",
     "timestamp": 1652011783609,
     "user": {
      "displayName": "Phuoc Tri Vo",
      "userId": "16150899667672929104"
     },
     "user_tz": -420
    },
    "id": "xKlTqz61ssuv",
    "outputId": "4eaf2989-930f-44e0-cd40-f1a6dd0fe6d5"
   },
   "outputs": [
    {
     "name": "stdout",
     "output_type": "stream",
     "text": [
      "['Duong_huyet_SAU.txt', 'Duong_huyet_TRUOC.txt', 'Samples.txt', 'Breast Cancer WI.csv', 'IQ6.xls']\n"
     ]
    }
   ],
   "source": [
    "import os\n",
    "path = \"/content/drive/My Drive/bai_thi_lds3/LDS3. De thi cuoi khoa K274/\"\n",
    "folder = \"Data/\"\n",
    "os.chdir(path)\n",
    "files = os.listdir(folder)\n",
    "print(files)"
   ]
  },
  {
   "cell_type": "code",
   "execution_count": 3,
   "metadata": {
    "executionInfo": {
     "elapsed": 1355,
     "status": "ok",
     "timestamp": 1652011784959,
     "user": {
      "displayName": "Phuoc Tri Vo",
      "userId": "16150899667672929104"
     },
     "user_tz": -420
    },
    "id": "GFEBLM3tyJiB"
   },
   "outputs": [],
   "source": [
    "#Import các thư viện cần thiết\n",
    "import numpy as np\n",
    "import pandas as pd\n",
    "from numpy.linalg import norm\n",
    "import matplotlib.pyplot as plt\n",
    "from sklearn import decomposition\n",
    "from sklearn.preprocessing import scale\n",
    "import scipy\n",
    "from sklearn.decomposition import PCA"
   ]
  },
  {
   "cell_type": "code",
   "execution_count": 4,
   "metadata": {
    "executionInfo": {
     "elapsed": 1240,
     "status": "ok",
     "timestamp": 1652011786192,
     "user": {
      "displayName": "Phuoc Tri Vo",
      "userId": "16150899667672929104"
     },
     "user_tz": -420
    },
    "id": "NIrjk-pxtTyA"
   },
   "outputs": [],
   "source": [
    "###Cau 5 - KIEM DINH TRUNG BINH HAI MAU###\n",
    "data_5a = pd.read_csv(folder+files[0], sep=\"\\t\", header=None)\n",
    "data_5b = pd.read_csv(folder+files[1], sep=\"\\t\", header=None)"
   ]
  },
  {
   "cell_type": "code",
   "execution_count": 5,
   "metadata": {
    "colab": {
     "base_uri": "https://localhost:8080/"
    },
    "executionInfo": {
     "elapsed": 14,
     "status": "ok",
     "timestamp": 1652011786193,
     "user": {
      "displayName": "Phuoc Tri Vo",
      "userId": "16150899667672929104"
     },
     "user_tz": -420
    },
    "id": "Pew6QERTuofZ",
    "outputId": "26ae8ba0-3669-4222-ec8b-79f34335012f"
   },
   "outputs": [
    {
     "name": "stdout",
     "output_type": "stream",
     "text": [
      "Thong tin cua Duong Huyet truoc\n",
      "<class 'pandas.core.frame.DataFrame'>\n",
      "RangeIndex: 10 entries, 0 to 9\n",
      "Data columns (total 4 columns):\n",
      " #   Column  Non-Null Count  Dtype\n",
      "---  ------  --------------  -----\n",
      " 0   0       10 non-null     int64\n",
      " 1   1       10 non-null     int64\n",
      " 2   2       10 non-null     int64\n",
      " 3   3       10 non-null     int64\n",
      "dtypes: int64(4)\n",
      "memory usage: 448.0 bytes\n",
      "None\n",
      "                0           1           2           3\n",
      "count   10.000000   10.000000   10.000000   10.000000\n",
      "mean   139.600000  134.800000  132.300000  140.700000\n",
      "std     13.209424    7.345445    5.812821   10.033832\n",
      "min    125.000000  126.000000  126.000000  126.000000\n",
      "25%    130.250000  129.250000  129.250000  133.000000\n",
      "50%    136.000000  133.500000  131.500000  141.500000\n",
      "75%    146.500000  140.500000  132.750000  147.500000\n",
      "max    164.000000  146.000000  145.000000  155.000000\n",
      "Thong tin cua Duong Huyet sau\n",
      "<class 'pandas.core.frame.DataFrame'>\n",
      "RangeIndex: 10 entries, 0 to 9\n",
      "Data columns (total 4 columns):\n",
      " #   Column  Non-Null Count  Dtype\n",
      "---  ------  --------------  -----\n",
      " 0   0       10 non-null     int64\n",
      " 1   1       10 non-null     int64\n",
      " 2   2       10 non-null     int64\n",
      " 3   3       10 non-null     int64\n",
      "dtypes: int64(4)\n",
      "memory usage: 448.0 bytes\n",
      "None\n",
      "                0           1           2           3\n",
      "count   10.000000   10.000000   10.000000   10.000000\n",
      "mean   143.600000  137.300000  144.200000  142.600000\n",
      "std      9.442222    6.219146    7.036413    5.358275\n",
      "min    122.000000  128.000000  136.000000  134.000000\n",
      "25%    142.250000  134.000000  140.000000  139.500000\n",
      "50%    145.500000  136.500000  143.000000  142.500000\n",
      "75%    150.750000  141.500000  145.750000  146.750000\n",
      "max    152.000000  146.000000  160.000000  151.000000\n"
     ]
    }
   ],
   "source": [
    "print(\"Thong tin cua Duong Huyet truoc\")\n",
    "print(data_5a.info())\n",
    "print(data_5a.describe())\n",
    "print(\"Thong tin cua Duong Huyet sau\")\n",
    "print(data_5b.info())\n",
    "print(data_5b.describe())"
   ]
  },
  {
   "cell_type": "code",
   "execution_count": 9,
   "metadata": {
    "colab": {
     "base_uri": "https://localhost:8080/"
    },
    "executionInfo": {
     "elapsed": 1034,
     "status": "ok",
     "timestamp": 1652011884696,
     "user": {
      "displayName": "Phuoc Tri Vo",
      "userId": "16150899667672929104"
     },
     "user_tz": -420
    },
    "id": "Z877pxrkvdMV",
    "outputId": "b67cdd83-61b7-4c8c-c835-27fa88521f55"
   },
   "outputs": [
    {
     "name": "stdout",
     "output_type": "stream",
     "text": [
      "Ttest_relResult(statistic=-2.612963928899844, pvalue=0.01268442822363654)\n",
      "Bac bo gia thiet H0: Hai quan the co cung gia tri trung binh\n"
     ]
    }
   ],
   "source": [
    "test_5 = scipy.stats.ttest_rel(np.array(data_5a.values.reshape(40,)), np.array(data_5b.values.reshape(40,)))\n",
    "print(test_5)\n",
    "if test_5[1] < 0.05:\n",
    "  print(\"Bac bo gia thiet H0: Hai quan the co cung gia tri trung binh\")\n",
    "else:\n",
    "  print(\"Khong bac bo gia thiet H0: Hai quan the co cung gia tri trung binh\")\n"
   ]
  },
  {
   "cell_type": "markdown",
   "metadata": {},
   "source": [
    "Việc kiểm tra hai mẫu trước và sau của một bệnh nhân là để xem bệnh nhân ấy có bất thường gì sau khi sử dụng thuốc T, cũng như thuốc T có tác dụng phụ nào không. Trong thống kê, t-test được dùng để kiểm tra thử vẫn đề này. Và kết quả chỉ ra rằng hai mẫu này có cùng giá trị trung bình, hay không có sự khác biệt lắm giữa hai mẫu, hoặc nói cách khác, bệnh nhân bình thường sau khi sử dụng thuốc T. "
   ]
  },
  {
   "cell_type": "code",
   "execution_count": null,
   "metadata": {},
   "outputs": [],
   "source": []
  }
 ],
 "metadata": {
  "colab": {
   "authorship_tag": "ABX9TyOnTEDqkD5zb4PAseV9M/BC",
   "collapsed_sections": [],
   "name": "Cau5.ipynb",
   "provenance": []
  },
  "kernelspec": {
   "display_name": "Python 3 (ipykernel)",
   "language": "python",
   "name": "python3"
  },
  "language_info": {
   "codemirror_mode": {
    "name": "ipython",
    "version": 3
   },
   "file_extension": ".py",
   "mimetype": "text/x-python",
   "name": "python",
   "nbconvert_exporter": "python",
   "pygments_lexer": "ipython3",
   "version": "3.8.12"
  }
 },
 "nbformat": 4,
 "nbformat_minor": 1
}
