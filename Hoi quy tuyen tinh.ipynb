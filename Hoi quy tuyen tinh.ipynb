{
 "cells": [
  {
   "cell_type": "markdown",
   "metadata": {},
   "source": [
    "# Hồi quy tuyến tính\n",
    "\n",
    "Tập tin ‘IQ6.xls’ chứa dữ liệu huấn luyện về mối quan hệ giữa chỉ số IQ với điểm thi của các môn học.\n",
    "\n",
    "3.1) Vẽ biểu đồ phân phối và cho biết những giá trị thống kê cơ bản của điểm thi các môn. Xác định outlier(s), nếu có, của chỉ số IQ và của điểm thi các môn dựa trên quy tắc 3-Sigma.\n",
    "\n",
    "3.2) Tính hệ số tương quan Pearson giữa IQ và các điểm thi. Trên cơ sở đó, chọn điểm thi của 1 trong các môn để dự đoán chỉ số IQ theo phương pháp hồi quy tuyến tính dựa trên a) Gradient Descent VÀ b) Công thức hiệp phương sai. Trực quan hóa dữ liệu.\n",
    "\n",
    "3.3) Dự đoán chỉ số IQ cho tập dữ liệu thử nghiệm (test set): { 0.5, 1.0, 1.5, 2.0, ..., 9.0, 9.5, 10 }.\n",
    "\n",
    "3.4) Nhận xét kết quả khi dùng diem_5 để dự đoán chỉ số IQ.\n"
   ]
  },
  {
   "cell_type": "code",
   "execution_count": null,
   "metadata": {
    "colab": {
     "base_uri": "https://localhost:8080/"
    },
    "executionInfo": {
     "elapsed": 81290,
     "status": "ok",
     "timestamp": 1652009676647,
     "user": {
      "displayName": "Phuoc Tri Vo",
      "userId": "16150899667672929104"
     },
     "user_tz": -420
    },
    "id": "fW7zjswhsXvE",
    "outputId": "214ea981-590f-4012-cd17-50119382981a"
   },
   "outputs": [],
   "source": [
    "from google.colab import drive\n",
    "drive.mount(\"/content/drive\")\n",
    "\n",
    "%pwd\n",
    "%ls\n",
    "%cd \n",
    "%ls"
   ]
  },
  {
   "cell_type": "code",
   "execution_count": 2,
   "metadata": {
    "colab": {
     "base_uri": "https://localhost:8080/"
    },
    "executionInfo": {
     "elapsed": 1439,
     "status": "ok",
     "timestamp": 1652009678082,
     "user": {
      "displayName": "Phuoc Tri Vo",
      "userId": "16150899667672929104"
     },
     "user_tz": -420
    },
    "id": "xKlTqz61ssuv",
    "outputId": "f13c2b54-1e35-41bc-ca44-b71ea285039c"
   },
   "outputs": [
    {
     "name": "stdout",
     "output_type": "stream",
     "text": [
      "['Duong_huyet_SAU.txt', 'Duong_huyet_TRUOC.txt', 'Samples.txt', 'Breast Cancer WI.csv', 'IQ6.xls']\n"
     ]
    }
   ],
   "source": [
    "import os\n",
    "path = \"/content/drive/My Drive/bai_thi_lds3/LDS3. De thi cuoi khoa K274/\"\n",
    "folder = \"Data/\"\n",
    "os.chdir(path)\n",
    "files = os.listdir(folder)\n",
    "print(files)"
   ]
  },
  {
   "cell_type": "code",
   "execution_count": 3,
   "metadata": {
    "executionInfo": {
     "elapsed": 529,
     "status": "ok",
     "timestamp": 1652009678604,
     "user": {
      "displayName": "Phuoc Tri Vo",
      "userId": "16150899667672929104"
     },
     "user_tz": -420
    },
    "id": "GFEBLM3tyJiB"
   },
   "outputs": [],
   "source": [
    "#Import các thư viện cần thiết\n",
    "import numpy as np\n",
    "import pandas as pd\n",
    "from numpy.linalg import norm\n",
    "import matplotlib.pyplot as plt\n",
    "from sklearn import decomposition\n",
    "from sklearn.preprocessing import scale\n",
    "import scipy\n",
    "from sklearn.decomposition import PCA"
   ]
  },
  {
   "cell_type": "code",
   "execution_count": 4,
   "metadata": {
    "colab": {
     "base_uri": "https://localhost:8080/"
    },
    "executionInfo": {
     "elapsed": 4098,
     "status": "ok",
     "timestamp": 1652009682700,
     "user": {
      "displayName": "Phuoc Tri Vo",
      "userId": "16150899667672929104"
     },
     "user_tz": -420
    },
    "id": "eqxEmDlGZL3f",
    "outputId": "6b0b5419-0d05-4810-ea44-1208cfb3a917"
   },
   "outputs": [
    {
     "name": "stdout",
     "output_type": "stream",
     "text": [
      "Requirement already satisfied: xlrd in /usr/local/lib/python3.7/dist-packages (1.1.0)\n",
      "Collecting xlrd\n",
      "  Downloading xlrd-2.0.1-py2.py3-none-any.whl (96 kB)\n",
      "\u001b[K     |████████████████████████████████| 96 kB 3.0 MB/s \n",
      "\u001b[?25hInstalling collected packages: xlrd\n",
      "  Attempting uninstall: xlrd\n",
      "    Found existing installation: xlrd 1.1.0\n",
      "    Uninstalling xlrd-1.1.0:\n",
      "      Successfully uninstalled xlrd-1.1.0\n",
      "Successfully installed xlrd-2.0.1\n"
     ]
    }
   ],
   "source": [
    "!pip install --upgrade xlrd"
   ]
  },
  {
   "cell_type": "code",
   "execution_count": 5,
   "metadata": {
    "colab": {
     "base_uri": "https://localhost:8080/",
     "height": 669
    },
    "executionInfo": {
     "elapsed": 850,
     "status": "ok",
     "timestamp": 1652009683547,
     "user": {
      "displayName": "Phuoc Tri Vo",
      "userId": "16150899667672929104"
     },
     "user_tz": -420
    },
    "id": "EILjfwv-YvEc",
    "outputId": "60c9a5ef-5ac9-45c7-f35c-fe2e6e0533df"
   },
   "outputs": [
    {
     "data": {
      "text/html": [
       "\n",
       "  <div id=\"df-b4994720-9b3d-4123-95be-165983568593\">\n",
       "    <div class=\"colab-df-container\">\n",
       "      <div>\n",
       "<style scoped>\n",
       "    .dataframe tbody tr th:only-of-type {\n",
       "        vertical-align: middle;\n",
       "    }\n",
       "\n",
       "    .dataframe tbody tr th {\n",
       "        vertical-align: top;\n",
       "    }\n",
       "\n",
       "    .dataframe thead th {\n",
       "        text-align: right;\n",
       "    }\n",
       "</style>\n",
       "<table border=\"1\" class=\"dataframe\">\n",
       "  <thead>\n",
       "    <tr style=\"text-align: right;\">\n",
       "      <th></th>\n",
       "      <th>stt</th>\n",
       "      <th>diem_1</th>\n",
       "      <th>diem_2</th>\n",
       "      <th>diem_3</th>\n",
       "      <th>diem_4</th>\n",
       "      <th>diem_5</th>\n",
       "      <th>diem_6</th>\n",
       "      <th>IQ</th>\n",
       "    </tr>\n",
       "  </thead>\n",
       "  <tbody>\n",
       "    <tr>\n",
       "      <th>0</th>\n",
       "      <td>1</td>\n",
       "      <td>8</td>\n",
       "      <td>2.0</td>\n",
       "      <td>7.0</td>\n",
       "      <td>7</td>\n",
       "      <td>1.4</td>\n",
       "      <td>8.0</td>\n",
       "      <td>68</td>\n",
       "    </tr>\n",
       "    <tr>\n",
       "      <th>1</th>\n",
       "      <td>2</td>\n",
       "      <td>8</td>\n",
       "      <td>8.4</td>\n",
       "      <td>6.4</td>\n",
       "      <td>8</td>\n",
       "      <td>4.0</td>\n",
       "      <td>1.6</td>\n",
       "      <td>137</td>\n",
       "    </tr>\n",
       "    <tr>\n",
       "      <th>2</th>\n",
       "      <td>3</td>\n",
       "      <td>7</td>\n",
       "      <td>7.6</td>\n",
       "      <td>7.8</td>\n",
       "      <td>8</td>\n",
       "      <td>5.2</td>\n",
       "      <td>2.4</td>\n",
       "      <td>135</td>\n",
       "    </tr>\n",
       "    <tr>\n",
       "      <th>3</th>\n",
       "      <td>4</td>\n",
       "      <td>8</td>\n",
       "      <td>7.0</td>\n",
       "      <td>2.5</td>\n",
       "      <td>6</td>\n",
       "      <td>6.4</td>\n",
       "      <td>7.0</td>\n",
       "      <td>79</td>\n",
       "    </tr>\n",
       "    <tr>\n",
       "      <th>4</th>\n",
       "      <td>5</td>\n",
       "      <td>8</td>\n",
       "      <td>4.4</td>\n",
       "      <td>3.8</td>\n",
       "      <td>6</td>\n",
       "      <td>1.0</td>\n",
       "      <td>5.6</td>\n",
       "      <td>107</td>\n",
       "    </tr>\n",
       "    <tr>\n",
       "      <th>5</th>\n",
       "      <td>6</td>\n",
       "      <td>8</td>\n",
       "      <td>6.4</td>\n",
       "      <td>7.2</td>\n",
       "      <td>7</td>\n",
       "      <td>5.6</td>\n",
       "      <td>3.6</td>\n",
       "      <td>128</td>\n",
       "    </tr>\n",
       "    <tr>\n",
       "      <th>6</th>\n",
       "      <td>7</td>\n",
       "      <td>7</td>\n",
       "      <td>8.0</td>\n",
       "      <td>8.4</td>\n",
       "      <td>8</td>\n",
       "      <td>4.4</td>\n",
       "      <td>2.0</td>\n",
       "      <td>120</td>\n",
       "    </tr>\n",
       "    <tr>\n",
       "      <th>7</th>\n",
       "      <td>8</td>\n",
       "      <td>8</td>\n",
       "      <td>2.8</td>\n",
       "      <td>6.8</td>\n",
       "      <td>6</td>\n",
       "      <td>0.4</td>\n",
       "      <td>7.2</td>\n",
       "      <td>74</td>\n",
       "    </tr>\n",
       "    <tr>\n",
       "      <th>8</th>\n",
       "      <td>9</td>\n",
       "      <td>6</td>\n",
       "      <td>5.2</td>\n",
       "      <td>5.0</td>\n",
       "      <td>7</td>\n",
       "      <td>5.0</td>\n",
       "      <td>4.8</td>\n",
       "      <td>110</td>\n",
       "    </tr>\n",
       "    <tr>\n",
       "      <th>9</th>\n",
       "      <td>10</td>\n",
       "      <td>8</td>\n",
       "      <td>6.4</td>\n",
       "      <td>8.9</td>\n",
       "      <td>7</td>\n",
       "      <td>2.4</td>\n",
       "      <td>3.6</td>\n",
       "      <td>134</td>\n",
       "    </tr>\n",
       "    <tr>\n",
       "      <th>10</th>\n",
       "      <td>11</td>\n",
       "      <td>8</td>\n",
       "      <td>7.6</td>\n",
       "      <td>9.2</td>\n",
       "      <td>7</td>\n",
       "      <td>3.6</td>\n",
       "      <td>2.4</td>\n",
       "      <td>139</td>\n",
       "    </tr>\n",
       "    <tr>\n",
       "      <th>11</th>\n",
       "      <td>12</td>\n",
       "      <td>7</td>\n",
       "      <td>5.0</td>\n",
       "      <td>5.4</td>\n",
       "      <td>7</td>\n",
       "      <td>4.8</td>\n",
       "      <td>5.0</td>\n",
       "      <td>110</td>\n",
       "    </tr>\n",
       "    <tr>\n",
       "      <th>12</th>\n",
       "      <td>13</td>\n",
       "      <td>8</td>\n",
       "      <td>9.6</td>\n",
       "      <td>8.7</td>\n",
       "      <td>9</td>\n",
       "      <td>7.2</td>\n",
       "      <td>0.4</td>\n",
       "      <td>140</td>\n",
       "    </tr>\n",
       "    <tr>\n",
       "      <th>13</th>\n",
       "      <td>14</td>\n",
       "      <td>8</td>\n",
       "      <td>5.6</td>\n",
       "      <td>7.4</td>\n",
       "      <td>6</td>\n",
       "      <td>2.0</td>\n",
       "      <td>4.4</td>\n",
       "      <td>115</td>\n",
       "    </tr>\n",
       "    <tr>\n",
       "      <th>14</th>\n",
       "      <td>15</td>\n",
       "      <td>8</td>\n",
       "      <td>4.4</td>\n",
       "      <td>7.2</td>\n",
       "      <td>6</td>\n",
       "      <td>3.6</td>\n",
       "      <td>5.6</td>\n",
       "      <td>88</td>\n",
       "    </tr>\n",
       "    <tr>\n",
       "      <th>15</th>\n",
       "      <td>16</td>\n",
       "      <td>8</td>\n",
       "      <td>9.0</td>\n",
       "      <td>9.2</td>\n",
       "      <td>8</td>\n",
       "      <td>5.6</td>\n",
       "      <td>1.0</td>\n",
       "      <td>128</td>\n",
       "    </tr>\n",
       "    <tr>\n",
       "      <th>16</th>\n",
       "      <td>17</td>\n",
       "      <td>7</td>\n",
       "      <td>3.6</td>\n",
       "      <td>6.3</td>\n",
       "      <td>6</td>\n",
       "      <td>7.0</td>\n",
       "      <td>6.4</td>\n",
       "      <td>120</td>\n",
       "    </tr>\n",
       "    <tr>\n",
       "      <th>17</th>\n",
       "      <td>18</td>\n",
       "      <td>8</td>\n",
       "      <td>4.8</td>\n",
       "      <td>8.1</td>\n",
       "      <td>6</td>\n",
       "      <td>2.4</td>\n",
       "      <td>5.2</td>\n",
       "      <td>113</td>\n",
       "    </tr>\n",
       "    <tr>\n",
       "      <th>18</th>\n",
       "      <td>19</td>\n",
       "      <td>6</td>\n",
       "      <td>6.0</td>\n",
       "      <td>5.2</td>\n",
       "      <td>7</td>\n",
       "      <td>1.6</td>\n",
       "      <td>4.0</td>\n",
       "      <td>121</td>\n",
       "    </tr>\n",
       "    <tr>\n",
       "      <th>19</th>\n",
       "      <td>20</td>\n",
       "      <td>8</td>\n",
       "      <td>8.6</td>\n",
       "      <td>6.7</td>\n",
       "      <td>8</td>\n",
       "      <td>8.0</td>\n",
       "      <td>1.4</td>\n",
       "      <td>138</td>\n",
       "    </tr>\n",
       "  </tbody>\n",
       "</table>\n",
       "</div>\n",
       "      <button class=\"colab-df-convert\" onclick=\"convertToInteractive('df-b4994720-9b3d-4123-95be-165983568593')\"\n",
       "              title=\"Convert this dataframe to an interactive table.\"\n",
       "              style=\"display:none;\">\n",
       "        \n",
       "  <svg xmlns=\"http://www.w3.org/2000/svg\" height=\"24px\"viewBox=\"0 0 24 24\"\n",
       "       width=\"24px\">\n",
       "    <path d=\"M0 0h24v24H0V0z\" fill=\"none\"/>\n",
       "    <path d=\"M18.56 5.44l.94 2.06.94-2.06 2.06-.94-2.06-.94-.94-2.06-.94 2.06-2.06.94zm-11 1L8.5 8.5l.94-2.06 2.06-.94-2.06-.94L8.5 2.5l-.94 2.06-2.06.94zm10 10l.94 2.06.94-2.06 2.06-.94-2.06-.94-.94-2.06-.94 2.06-2.06.94z\"/><path d=\"M17.41 7.96l-1.37-1.37c-.4-.4-.92-.59-1.43-.59-.52 0-1.04.2-1.43.59L10.3 9.45l-7.72 7.72c-.78.78-.78 2.05 0 2.83L4 21.41c.39.39.9.59 1.41.59.51 0 1.02-.2 1.41-.59l7.78-7.78 2.81-2.81c.8-.78.8-2.07 0-2.86zM5.41 20L4 18.59l7.72-7.72 1.47 1.35L5.41 20z\"/>\n",
       "  </svg>\n",
       "      </button>\n",
       "      \n",
       "  <style>\n",
       "    .colab-df-container {\n",
       "      display:flex;\n",
       "      flex-wrap:wrap;\n",
       "      gap: 12px;\n",
       "    }\n",
       "\n",
       "    .colab-df-convert {\n",
       "      background-color: #E8F0FE;\n",
       "      border: none;\n",
       "      border-radius: 50%;\n",
       "      cursor: pointer;\n",
       "      display: none;\n",
       "      fill: #1967D2;\n",
       "      height: 32px;\n",
       "      padding: 0 0 0 0;\n",
       "      width: 32px;\n",
       "    }\n",
       "\n",
       "    .colab-df-convert:hover {\n",
       "      background-color: #E2EBFA;\n",
       "      box-shadow: 0px 1px 2px rgba(60, 64, 67, 0.3), 0px 1px 3px 1px rgba(60, 64, 67, 0.15);\n",
       "      fill: #174EA6;\n",
       "    }\n",
       "\n",
       "    [theme=dark] .colab-df-convert {\n",
       "      background-color: #3B4455;\n",
       "      fill: #D2E3FC;\n",
       "    }\n",
       "\n",
       "    [theme=dark] .colab-df-convert:hover {\n",
       "      background-color: #434B5C;\n",
       "      box-shadow: 0px 1px 3px 1px rgba(0, 0, 0, 0.15);\n",
       "      filter: drop-shadow(0px 1px 2px rgba(0, 0, 0, 0.3));\n",
       "      fill: #FFFFFF;\n",
       "    }\n",
       "  </style>\n",
       "\n",
       "      <script>\n",
       "        const buttonEl =\n",
       "          document.querySelector('#df-b4994720-9b3d-4123-95be-165983568593 button.colab-df-convert');\n",
       "        buttonEl.style.display =\n",
       "          google.colab.kernel.accessAllowed ? 'block' : 'none';\n",
       "\n",
       "        async function convertToInteractive(key) {\n",
       "          const element = document.querySelector('#df-b4994720-9b3d-4123-95be-165983568593');\n",
       "          const dataTable =\n",
       "            await google.colab.kernel.invokeFunction('convertToInteractive',\n",
       "                                                     [key], {});\n",
       "          if (!dataTable) return;\n",
       "\n",
       "          const docLinkHtml = 'Like what you see? Visit the ' +\n",
       "            '<a target=\"_blank\" href=https://colab.research.google.com/notebooks/data_table.ipynb>data table notebook</a>'\n",
       "            + ' to learn more about interactive tables.';\n",
       "          element.innerHTML = '';\n",
       "          dataTable['output_type'] = 'display_data';\n",
       "          await google.colab.output.renderOutput(dataTable, element);\n",
       "          const docLink = document.createElement('div');\n",
       "          docLink.innerHTML = docLinkHtml;\n",
       "          element.appendChild(docLink);\n",
       "        }\n",
       "      </script>\n",
       "    </div>\n",
       "  </div>\n",
       "  "
      ],
      "text/plain": [
       "    stt  diem_1  diem_2  diem_3  diem_4  diem_5  diem_6   IQ\n",
       "0     1       8     2.0     7.0       7     1.4     8.0   68\n",
       "1     2       8     8.4     6.4       8     4.0     1.6  137\n",
       "2     3       7     7.6     7.8       8     5.2     2.4  135\n",
       "3     4       8     7.0     2.5       6     6.4     7.0   79\n",
       "4     5       8     4.4     3.8       6     1.0     5.6  107\n",
       "5     6       8     6.4     7.2       7     5.6     3.6  128\n",
       "6     7       7     8.0     8.4       8     4.4     2.0  120\n",
       "7     8       8     2.8     6.8       6     0.4     7.2   74\n",
       "8     9       6     5.2     5.0       7     5.0     4.8  110\n",
       "9    10       8     6.4     8.9       7     2.4     3.6  134\n",
       "10   11       8     7.6     9.2       7     3.6     2.4  139\n",
       "11   12       7     5.0     5.4       7     4.8     5.0  110\n",
       "12   13       8     9.6     8.7       9     7.2     0.4  140\n",
       "13   14       8     5.6     7.4       6     2.0     4.4  115\n",
       "14   15       8     4.4     7.2       6     3.6     5.6   88\n",
       "15   16       8     9.0     9.2       8     5.6     1.0  128\n",
       "16   17       7     3.6     6.3       6     7.0     6.4  120\n",
       "17   18       8     4.8     8.1       6     2.4     5.2  113\n",
       "18   19       6     6.0     5.2       7     1.6     4.0  121\n",
       "19   20       8     8.6     6.7       8     8.0     1.4  138"
      ]
     },
     "execution_count": 5,
     "metadata": {},
     "output_type": "execute_result"
    }
   ],
   "source": [
    "### CAU 3 - HOI QUY TUYEN TINH ###\n",
    "data_2 = pd.read_excel(folder+files[4])\n",
    "data_2"
   ]
  },
  {
   "cell_type": "code",
   "execution_count": 6,
   "metadata": {
    "colab": {
     "base_uri": "https://localhost:8080/",
     "height": 1000
    },
    "executionInfo": {
     "elapsed": 1431,
     "status": "ok",
     "timestamp": 1652009684973,
     "user": {
      "displayName": "Phuoc Tri Vo",
      "userId": "16150899667672929104"
     },
     "user_tz": -420
    },
    "id": "DWA2xwtJYc3W",
    "outputId": "617137b3-80c3-47bb-864f-110b67c9377e"
   },
   "outputs": [
    {
     "data": {
      "image/png": "[encoded data removed]",
      "text/plain": [
       "<Figure size 432x288 with 1 Axes>"
      ]
     },
     "metadata": {
      "needs_background": "light"
     },
     "output_type": "display_data"
    },
    {
     "data": {
      "image/png": "[encoded data removed]",
      "text/plain": [
       "<Figure size 432x288 with 1 Axes>"
      ]
     },
     "metadata": {
      "needs_background": "light"
     },
     "output_type": "display_data"
    },
    {
     "data": {
      "image/png": "[encoded data removed]",
      "text/plain": [
       "<Figure size 432x288 with 1 Axes>"
      ]
     },
     "metadata": {
      "needs_background": "light"
     },
     "output_type": "display_data"
    },
    {
     "data": {
      "image/png": "[encoded data removed]",
      "text/plain": [
       "<Figure size 432x288 with 1 Axes>"
      ]
     },
     "metadata": {
      "needs_background": "light"
     },
     "output_type": "display_data"
    },
    {
     "data": {
      "image/png": "[encoded data removed]",
      "text/plain": [
       "<Figure size 432x288 with 1 Axes>"
      ]
     },
     "metadata": {
      "needs_background": "light"
     },
     "output_type": "display_data"
    },
    {
     "data": {
      "image/png": "[encoded data removed]",
      "text/plain": [
       "<Figure size 432x288 with 1 Axes>"
      ]
     },
     "metadata": {
      "needs_background": "light"
     },
     "output_type": "display_data"
    }
   ],
   "source": [
    "#Phan phoi diem so cac mon\n",
    "for i in data_2.columns[1:7]:\n",
    "  plt.hist(data_2[i])\n",
    "  plt.title(i)\n",
    "  plt.show()"
   ]
  },
  {
   "cell_type": "code",
   "execution_count": 7,
   "metadata": {
    "colab": {
     "base_uri": "https://localhost:8080/",
     "height": 235
    },
    "executionInfo": {
     "elapsed": 21,
     "status": "ok",
     "timestamp": 1652009684974,
     "user": {
      "displayName": "Phuoc Tri Vo",
      "userId": "16150899667672929104"
     },
     "user_tz": -420
    },
    "id": "BF9NaPmccWQx",
    "outputId": "d7886971-c48e-46be-89c1-196a24135b3b"
   },
   "outputs": [
    {
     "data": {
      "text/html": [
       "\n",
       "  <div id=\"df-cafdcb01-54df-4b77-a2c5-1ebf5bd83c14\">\n",
       "    <div class=\"colab-df-container\">\n",
       "      <div>\n",
       "<style scoped>\n",
       "    .dataframe tbody tr th:only-of-type {\n",
       "        vertical-align: middle;\n",
       "    }\n",
       "\n",
       "    .dataframe tbody tr th {\n",
       "        vertical-align: top;\n",
       "    }\n",
       "\n",
       "    .dataframe thead th {\n",
       "        text-align: right;\n",
       "    }\n",
       "</style>\n",
       "<table border=\"1\" class=\"dataframe\">\n",
       "  <thead>\n",
       "    <tr style=\"text-align: right;\">\n",
       "      <th></th>\n",
       "      <th>count</th>\n",
       "      <th>mean</th>\n",
       "      <th>std</th>\n",
       "      <th>min</th>\n",
       "      <th>25%</th>\n",
       "      <th>50%</th>\n",
       "      <th>75%</th>\n",
       "      <th>max</th>\n",
       "    </tr>\n",
       "  </thead>\n",
       "  <tbody>\n",
       "    <tr>\n",
       "      <th>diem_1</th>\n",
       "      <td>20.0</td>\n",
       "      <td>7.60</td>\n",
       "      <td>0.680557</td>\n",
       "      <td>6.0</td>\n",
       "      <td>7.000</td>\n",
       "      <td>8.0</td>\n",
       "      <td>8.000</td>\n",
       "      <td>8.0</td>\n",
       "    </tr>\n",
       "    <tr>\n",
       "      <th>diem_2</th>\n",
       "      <td>20.0</td>\n",
       "      <td>6.12</td>\n",
       "      <td>2.115009</td>\n",
       "      <td>2.0</td>\n",
       "      <td>4.700</td>\n",
       "      <td>6.2</td>\n",
       "      <td>7.700</td>\n",
       "      <td>9.6</td>\n",
       "    </tr>\n",
       "    <tr>\n",
       "      <th>diem_3</th>\n",
       "      <td>20.0</td>\n",
       "      <td>6.86</td>\n",
       "      <td>1.793380</td>\n",
       "      <td>2.5</td>\n",
       "      <td>6.075</td>\n",
       "      <td>7.1</td>\n",
       "      <td>8.175</td>\n",
       "      <td>9.2</td>\n",
       "    </tr>\n",
       "    <tr>\n",
       "      <th>diem_4</th>\n",
       "      <td>20.0</td>\n",
       "      <td>7.00</td>\n",
       "      <td>0.917663</td>\n",
       "      <td>6.0</td>\n",
       "      <td>6.000</td>\n",
       "      <td>7.0</td>\n",
       "      <td>8.000</td>\n",
       "      <td>9.0</td>\n",
       "    </tr>\n",
       "    <tr>\n",
       "      <th>diem_5</th>\n",
       "      <td>20.0</td>\n",
       "      <td>4.08</td>\n",
       "      <td>2.214212</td>\n",
       "      <td>0.4</td>\n",
       "      <td>2.300</td>\n",
       "      <td>4.2</td>\n",
       "      <td>5.600</td>\n",
       "      <td>8.0</td>\n",
       "    </tr>\n",
       "    <tr>\n",
       "      <th>diem_6</th>\n",
       "      <td>20.0</td>\n",
       "      <td>4.08</td>\n",
       "      <td>2.214212</td>\n",
       "      <td>0.4</td>\n",
       "      <td>2.300</td>\n",
       "      <td>4.2</td>\n",
       "      <td>5.600</td>\n",
       "      <td>8.0</td>\n",
       "    </tr>\n",
       "  </tbody>\n",
       "</table>\n",
       "</div>\n",
       "      <button class=\"colab-df-convert\" onclick=\"convertToInteractive('df-cafdcb01-54df-4b77-a2c5-1ebf5bd83c14')\"\n",
       "              title=\"Convert this dataframe to an interactive table.\"\n",
       "              style=\"display:none;\">\n",
       "        \n",
       "  <svg xmlns=\"http://www.w3.org/2000/svg\" height=\"24px\"viewBox=\"0 0 24 24\"\n",
       "       width=\"24px\">\n",
       "    <path d=\"M0 0h24v24H0V0z\" fill=\"none\"/>\n",
       "    <path d=\"M18.56 5.44l.94 2.06.94-2.06 2.06-.94-2.06-.94-.94-2.06-.94 2.06-2.06.94zm-11 1L8.5 8.5l.94-2.06 2.06-.94-2.06-.94L8.5 2.5l-.94 2.06-2.06.94zm10 10l.94 2.06.94-2.06 2.06-.94-2.06-.94-.94-2.06-.94 2.06-2.06.94z\"/><path d=\"M17.41 7.96l-1.37-1.37c-.4-.4-.92-.59-1.43-.59-.52 0-1.04.2-1.43.59L10.3 9.45l-7.72 7.72c-.78.78-.78 2.05 0 2.83L4 21.41c.39.39.9.59 1.41.59.51 0 1.02-.2 1.41-.59l7.78-7.78 2.81-2.81c.8-.78.8-2.07 0-2.86zM5.41 20L4 18.59l7.72-7.72 1.47 1.35L5.41 20z\"/>\n",
       "  </svg>\n",
       "      </button>\n",
       "      \n",
       "  <style>\n",
       "    .colab-df-container {\n",
       "      display:flex;\n",
       "      flex-wrap:wrap;\n",
       "      gap: 12px;\n",
       "    }\n",
       "\n",
       "    .colab-df-convert {\n",
       "      background-color: #E8F0FE;\n",
       "      border: none;\n",
       "      border-radius: 50%;\n",
       "      cursor: pointer;\n",
       "      display: none;\n",
       "      fill: #1967D2;\n",
       "      height: 32px;\n",
       "      padding: 0 0 0 0;\n",
       "      width: 32px;\n",
       "    }\n",
       "\n",
       "    .colab-df-convert:hover {\n",
       "      background-color: #E2EBFA;\n",
       "      box-shadow: 0px 1px 2px rgba(60, 64, 67, 0.3), 0px 1px 3px 1px rgba(60, 64, 67, 0.15);\n",
       "      fill: #174EA6;\n",
       "    }\n",
       "\n",
       "    [theme=dark] .colab-df-convert {\n",
       "      background-color: #3B4455;\n",
       "      fill: #D2E3FC;\n",
       "    }\n",
       "\n",
       "    [theme=dark] .colab-df-convert:hover {\n",
       "      background-color: #434B5C;\n",
       "      box-shadow: 0px 1px 3px 1px rgba(0, 0, 0, 0.15);\n",
       "      filter: drop-shadow(0px 1px 2px rgba(0, 0, 0, 0.3));\n",
       "      fill: #FFFFFF;\n",
       "    }\n",
       "  </style>\n",
       "\n",
       "      <script>\n",
       "        const buttonEl =\n",
       "          document.querySelector('#df-cafdcb01-54df-4b77-a2c5-1ebf5bd83c14 button.colab-df-convert');\n",
       "        buttonEl.style.display =\n",
       "          google.colab.kernel.accessAllowed ? 'block' : 'none';\n",
       "\n",
       "        async function convertToInteractive(key) {\n",
       "          const element = document.querySelector('#df-cafdcb01-54df-4b77-a2c5-1ebf5bd83c14');\n",
       "          const dataTable =\n",
       "            await google.colab.kernel.invokeFunction('convertToInteractive',\n",
       "                                                     [key], {});\n",
       "          if (!dataTable) return;\n",
       "\n",
       "          const docLinkHtml = 'Like what you see? Visit the ' +\n",
       "            '<a target=\"_blank\" href=https://colab.research.google.com/notebooks/data_table.ipynb>data table notebook</a>'\n",
       "            + ' to learn more about interactive tables.';\n",
       "          element.innerHTML = '';\n",
       "          dataTable['output_type'] = 'display_data';\n",
       "          await google.colab.output.renderOutput(dataTable, element);\n",
       "          const docLink = document.createElement('div');\n",
       "          docLink.innerHTML = docLinkHtml;\n",
       "          element.appendChild(docLink);\n",
       "        }\n",
       "      </script>\n",
       "    </div>\n",
       "  </div>\n",
       "  "
      ],
      "text/plain": [
       "        count  mean       std  min    25%  50%    75%  max\n",
       "diem_1   20.0  7.60  0.680557  6.0  7.000  8.0  8.000  8.0\n",
       "diem_2   20.0  6.12  2.115009  2.0  4.700  6.2  7.700  9.6\n",
       "diem_3   20.0  6.86  1.793380  2.5  6.075  7.1  8.175  9.2\n",
       "diem_4   20.0  7.00  0.917663  6.0  6.000  7.0  8.000  9.0\n",
       "diem_5   20.0  4.08  2.214212  0.4  2.300  4.2  5.600  8.0\n",
       "diem_6   20.0  4.08  2.214212  0.4  2.300  4.2  5.600  8.0"
      ]
     },
     "execution_count": 7,
     "metadata": {},
     "output_type": "execute_result"
    }
   ],
   "source": [
    "#Nhung gia tri thong ke co ban cua diem thi cac mon\n",
    "data_2[data_2.columns[1:7]].describe().transpose()"
   ]
  },
  {
   "cell_type": "code",
   "execution_count": 8,
   "metadata": {
    "colab": {
     "base_uri": "https://localhost:8080/"
    },
    "executionInfo": {
     "elapsed": 18,
     "status": "ok",
     "timestamp": 1652009684974,
     "user": {
      "displayName": "Phuoc Tri Vo",
      "userId": "16150899667672929104"
     },
     "user_tz": -420
    },
    "id": "nnkFKENYdNOx",
    "outputId": "bf797f46-7887-4e8d-a4c8-067855cc6e35"
   },
   "outputs": [
    {
     "name": "stdout",
     "output_type": "stream",
     "text": [
      "      diem_1    diem_2    diem_3    diem_4    diem_5    diem_6        IQ\n",
      "0   0.603023 -1.998588  0.080093  0.000000 -1.241806  1.816373 -2.173569\n",
      "1   0.603023  1.106014 -0.263162  1.118034 -0.037069 -1.149134  1.003894\n",
      "2  -0.904534  0.717939  0.537767  1.118034  0.518964 -0.778445  0.911794\n",
      "3   0.603023  0.426883 -2.494322 -1.118034  1.074996  1.353012 -1.667017\n",
      "4   0.603023 -0.834362 -1.750602 -1.118034 -1.427150  0.704308 -0.377612\n",
      "5   0.603023  0.135826  0.194511  0.000000  0.704308 -0.222413  0.589443\n",
      "6  -0.904534  0.911977  0.881022  1.118034  0.148275 -0.963790  0.221041\n",
      "7   0.603023 -1.610512 -0.034326 -1.118034 -1.705166  1.445684 -1.897268\n",
      "8  -2.412091 -0.446287 -1.064091  0.000000  0.426292  0.333619 -0.239461\n",
      "9   0.603023  0.135826  1.167068  0.000000 -0.778445 -0.222413  0.865744\n",
      "10  0.603023  0.717939  1.338696  0.000000 -0.222413 -0.778445  1.095995\n",
      "11 -0.904534 -0.543305 -0.835254  0.000000  0.333619  0.426292 -0.239461\n",
      "12  0.603023  1.688127  1.052649  2.236068  1.445684 -1.705166  1.142045\n",
      "13  0.603023 -0.252249  0.308930 -1.118034 -0.963790  0.148275 -0.009210\n",
      "14  0.603023 -0.834362  0.194511 -1.118034 -0.222413  0.704308 -1.252565\n",
      "15  0.603023  1.397071  1.338696  1.118034  0.704308 -1.427150  0.589443\n",
      "16 -0.904534 -1.222437 -0.320372 -1.118034  1.353012  1.074996  0.221041\n",
      "17  0.603023 -0.640324  0.709394 -1.118034 -0.778445  0.518964 -0.101310\n",
      "18 -2.412091 -0.058211 -0.949673  0.000000 -1.149134 -0.037069  0.267091\n",
      "19  0.603023  1.203033 -0.091535  1.118034  1.816373 -1.241806  1.049945\n",
      "Kiem tra xem co gia tri nao co Z-score lon hon 3 hay khong\n",
      "    diem_1  diem_2  diem_3  diem_4  diem_5  diem_6     IQ\n",
      "0    False   False   False   False   False   False  False\n",
      "1    False   False   False   False   False   False  False\n",
      "2    False   False   False   False   False   False  False\n",
      "3    False   False   False   False   False   False  False\n",
      "4    False   False   False   False   False   False  False\n",
      "5    False   False   False   False   False   False  False\n",
      "6    False   False   False   False   False   False  False\n",
      "7    False   False   False   False   False   False  False\n",
      "8    False   False   False   False   False   False  False\n",
      "9    False   False   False   False   False   False  False\n",
      "10   False   False   False   False   False   False  False\n",
      "11   False   False   False   False   False   False  False\n",
      "12   False   False   False   False   False   False  False\n",
      "13   False   False   False   False   False   False  False\n",
      "14   False   False   False   False   False   False  False\n",
      "15   False   False   False   False   False   False  False\n",
      "16   False   False   False   False   False   False  False\n",
      "17   False   False   False   False   False   False  False\n",
      "18   False   False   False   False   False   False  False\n",
      "19   False   False   False   False   False   False  False\n",
      "False\n"
     ]
    }
   ],
   "source": [
    "#Kiem tra xem co outlier voi quy tac 3 sigma hay khong\n",
    "from scipy import stats\n",
    "df = pd.DataFrame(stats.zscore(data_2[data_2.columns[1:]]))\n",
    "df.columns = data_2.columns[1:]\n",
    "print(df)\n",
    "print(\"Kiem tra xem co gia tri nao co Z-score lon hon 3 hay khong\")\n",
    "print(abs(df)>3)\n",
    "print(np.any(abs(df)>3))"
   ]
  },
  {
   "cell_type": "markdown",
   "metadata": {
    "id": "Nf9pp-9Qgqdw"
   },
   "source": [
    "Các Outlier có thể làm nhiễu việc kết quả ước lượng. Việc tìm ra chúng và xử lý là cần thiết trong quá trình xử lý dữ liệu.\n",
    "\n",
    "Có nhiều cách để tìm ra được các Outlier, trong đó giá trị Z-score thường được áp dụng.\n",
    "\n",
    "Kết quả trng bảng chỉ ra cho thấy không tồn tại tại giá trị nào có Z-score lớn hơn 3 hoặc nhỏ hơn -3, như vậy dữ liệu không có outlier nào với quy tắc 3 sigma."
   ]
  },
  {
   "cell_type": "code",
   "execution_count": 9,
   "metadata": {
    "colab": {
     "base_uri": "https://localhost:8080/"
    },
    "executionInfo": {
     "elapsed": 15,
     "status": "ok",
     "timestamp": 1652009684975,
     "user": {
      "displayName": "Phuoc Tri Vo",
      "userId": "16150899667672929104"
     },
     "user_tz": -420
    },
    "id": "hIKXDpyEdbMN",
    "outputId": "074127dd-be3f-407e-bfb4-61bdc0c5e6ca"
   },
   "outputs": [
    {
     "name": "stdout",
     "output_type": "stream",
     "text": [
      "He so tuong quan giua IQ va diem so cac mon\n"
     ]
    },
    {
     "data": {
      "text/plain": [
       "diem_1   -0.088168\n",
       "diem_2    0.751607\n",
       "diem_3    0.471522\n",
       "diem_4    0.622977\n",
       "diem_5    0.439858\n",
       "diem_6   -0.872419\n",
       "IQ        1.000000\n",
       "Name: IQ, dtype: float64"
      ]
     },
     "execution_count": 9,
     "metadata": {},
     "output_type": "execute_result"
    }
   ],
   "source": [
    "#He so tuong quan giua IQ va diem so cac mon\n",
    "corr_ = data_2[data_2.columns[1:]].corr()[\"IQ\"]\n",
    "print(\"He so tuong quan giua IQ va diem so cac mon\")\n",
    "corr_"
   ]
  },
  {
   "cell_type": "code",
   "execution_count": 10,
   "metadata": {
    "colab": {
     "base_uri": "https://localhost:8080/"
    },
    "executionInfo": {
     "elapsed": 9,
     "status": "ok",
     "timestamp": 1652009684975,
     "user": {
      "displayName": "Phuoc Tri Vo",
      "userId": "16150899667672929104"
     },
     "user_tz": -420
    },
    "id": "eZghOjtIEMPl",
    "outputId": "095fef4a-7d63-4126-a93c-90f355875b31"
   },
   "outputs": [
    {
     "name": "stdout",
     "output_type": "stream",
     "text": [
      "   IQ = ( 7.917451054216866 ) * diem_2 + ( 66.74519954819279 )\n",
      "\n"
     ]
    },
    {
     "data": {
      "text/plain": [
       "array([ 82.58010166, 133.2517884 , 126.91782756, 122.16735693,\n",
       "       101.58198419, 117.4168863 , 130.08480798,  88.9140625 ,\n",
       "       107.91594503, 117.4168863 , 126.91782756, 106.33245482,\n",
       "       142.75272967, 111.08292545, 101.58198419, 138.00225904,\n",
       "        95.24802334, 104.74896461, 114.24990587, 134.83527861])"
      ]
     },
     "execution_count": 10,
     "metadata": {},
     "output_type": "execute_result"
    }
   ],
   "source": [
    "#Du bao theo hiep phuong sai\n",
    "def predict_cov(X,y):\n",
    "  mean_x  = np.mean(X)\n",
    "  delta_x = (X - mean_x).flatten()\n",
    "\n",
    "  mean_y  = np.mean(y)\n",
    "  delta_y = (y - mean_y).flatten()\n",
    "\n",
    "  numerator   = delta_x.dot(delta_y.T)\n",
    "  denominator = delta_x.dot(delta_x.T)\n",
    "\n",
    "  ## Vector tham số\n",
    "  slope4      = numerator/denominator\n",
    "  bias4       = mean_y - (slope4 * mean_x)\n",
    "  print('   IQ = (', slope4, ') * diem_2 + (', bias4, ')\\n')\n",
    "  return (slope4, bias4)\n",
    "\n",
    "slope, bias = predict_cov(data_2[\"diem_2\"].values, data_2[\"IQ\"].values)\n",
    "cov_predict = data_2[\"diem_2\"].values*slope + bias\n",
    "cov_predict\n",
    "\n"
   ]
  },
  {
   "cell_type": "code",
   "execution_count": 11,
   "metadata": {
    "colab": {
     "base_uri": "https://localhost:8080/"
    },
    "executionInfo": {
     "elapsed": 810,
     "status": "ok",
     "timestamp": 1652009685779,
     "user": {
      "displayName": "Phuoc Tri Vo",
      "userId": "16150899667672929104"
     },
     "user_tz": -420
    },
    "id": "5QtYprvKGWgI",
    "outputId": "5ae99a77-4e42-49c0-81fc-0f16b98428e8"
   },
   "outputs": [
    {
     "data": {
      "text/plain": [
       "0      66.095950\n",
       "1     138.755297\n",
       "2     129.672879\n",
       "3     122.861065\n",
       "4      93.343205\n",
       "5     116.049251\n",
       "6     134.214088\n",
       "7      75.178369\n",
       "8     102.425624\n",
       "9     116.049251\n",
       "10    129.672879\n",
       "11    100.155019\n",
       "12    152.378925\n",
       "13    106.966833\n",
       "14     93.343205\n",
       "15    145.567111\n",
       "16     84.260787\n",
       "17     97.884415\n",
       "18    111.508042\n",
       "19    141.025902\n",
       "Name: diem_2, dtype: float64"
      ]
     },
     "execution_count": 11,
     "metadata": {},
     "output_type": "execute_result"
    }
   ],
   "source": [
    "#Du bao theo Gradien Descent\n",
    "def gradient_descent_2(alpha, x, y, numIterations):\n",
    "  # x = [[1 x0],[1 x1], [1 x2]...]\n",
    "  m = x.shape[0] # number of samples\n",
    "  theta = np.ones(2)\n",
    "  for iter in range(0, numIterations):\n",
    "    # hypothesis = theta0 + theta1.x ~ x.dot(theta) ~ (1 x).dot (theta0 theta\n",
    "    hypothesis = np.dot(x, theta)\n",
    "    loss = hypothesis - y\n",
    "    J = np.sum(loss ** 2) / (2 * m) # cost\n",
    "    theta0_prime = np.sum(loss)/m\n",
    "    theta1_prime = np.sum(loss * x[:,1])/m\n",
    "    gradient = np.array([theta0_prime, theta1_prime])\n",
    "    theta = theta - alpha * gradient # update\n",
    "    # lan lap dau tien\n",
    "  return theta\n",
    "X = np.c_[ np.ones(len(data_2)), data_2[\"diem_2\"].values]\n",
    "theta = gradient_descent_2(0.01, X, data_2[\"IQ\"], 1000)\n",
    "GD_predict = data_2[\"diem_2\"]*theta[1] + theta[0]\n",
    "GD_predict"
   ]
  },
  {
   "cell_type": "code",
   "execution_count": 12,
   "metadata": {
    "colab": {
     "base_uri": "https://localhost:8080/",
     "height": 296
    },
    "executionInfo": {
     "elapsed": 10,
     "status": "ok",
     "timestamp": 1652009685780,
     "user": {
      "displayName": "Phuoc Tri Vo",
      "userId": "16150899667672929104"
     },
     "user_tz": -420
    },
    "id": "s8axfdkmKjx4",
    "outputId": "53ced12a-23f0-42df-b05c-86cf15885bc2"
   },
   "outputs": [
    {
     "data": {
      "image/png": "[encoded data removed]",
      "text/plain": [
       "<Figure size 432x288 with 1 Axes>"
      ]
     },
     "metadata": {
      "needs_background": "light"
     },
     "output_type": "display_data"
    }
   ],
   "source": [
    "#Truc quan hoa du lieu\n",
    "plt.scatter(data_2[\"diem_2\"], data_2[\"IQ\"])\n",
    "plt.plot(data_2[\"diem_2\"], cov_predict, label=\"Du bao theo cov\")\n",
    "plt.plot(data_2[\"diem_2\"], GD_predict, label=\"Du bao theo Gradient Descent\")\n",
    "plt.xlabel(\"diem_2\")\n",
    "plt.ylabel(\"IQ\")\n",
    "plt.legend()\n",
    "plt.title(\"Truc quan hoa du lieu du bao\")\n",
    "plt.show()\n"
   ]
  },
  {
   "cell_type": "code",
   "execution_count": 13,
   "metadata": {
    "colab": {
     "base_uri": "https://localhost:8080/"
    },
    "executionInfo": {
     "elapsed": 8,
     "status": "ok",
     "timestamp": 1652009685780,
     "user": {
      "displayName": "Phuoc Tri Vo",
      "userId": "16150899667672929104"
     },
     "user_tz": -420
    },
    "id": "wxaQlnLfOf06",
    "outputId": "abb0f3c4-607c-43b5-f281-6c67e678f941"
   },
   "outputs": [
    {
     "name": "stdout",
     "output_type": "stream",
     "text": [
      "Du bao theo covariance: \n",
      "70.70392507530121\n",
      "74.66265060240966\n",
      "82.58010165662652\n",
      "86.53882718373495\n",
      "78.62137612951808\n",
      "90.4975527108434\n",
      "94.45627823795182\n",
      "98.41500376506025\n",
      "102.37372929216869\n",
      "106.33245481927712\n",
      "110.29118034638554\n",
      "114.24990587349399\n",
      "118.20863140060243\n",
      "122.16735692771084\n",
      "126.12608245481928\n",
      "130.08480798192772\n",
      "134.04353350903614\n",
      "138.00225903614458\n",
      "141.96098456325302\n",
      "145.91971009036143\n",
      "Du bao theo Gradien Descent: \n",
      "49.06641607464427\n",
      "54.742927536424254\n",
      "66.09595045998421\n",
      "71.77246192176418\n",
      "60.41943899820423\n",
      "77.44897338354416\n",
      "83.12548484532414\n",
      "88.8019963071041\n",
      "94.47850776888409\n",
      "100.15501923066407\n",
      "105.83153069244403\n",
      "111.50804215422401\n",
      "117.184553616004\n",
      "122.86106507778398\n",
      "128.53757653956393\n",
      "134.21408800134392\n",
      "139.89059946312392\n",
      "145.5671109249039\n",
      "151.24362238668385\n",
      "156.92013384846382\n"
     ]
    }
   ],
   "source": [
    "# Dự đoán chỉ số IQ cho tập dữ liệu thử nghiệm (test set): { 0.5, 1.0, 1.5, 2.0, ..., 9.0, 9.5, 10 }.\n",
    "test_set = {0.5, 1.0, 1.5, 2.0, 2.5, 3.0, 3.5, 4.0, 4.5, 5.0,\n",
    "            5.5, 6.0, 6.5, 7.0, 7.5, 8.0, 8.5, 9.0, 9.5, 10.}\n",
    "print(\"Du bao theo covariance: \")\n",
    "for i in test_set:\n",
    "  print(i*slope+bias)\n",
    "print(\"Du bao theo Gradien Descent: \")\n",
    "for i in test_set:\n",
    "  print(i*theta[1]+theta[0])\n"
   ]
  },
  {
   "cell_type": "code",
   "execution_count": 14,
   "metadata": {
    "colab": {
     "base_uri": "https://localhost:8080/",
     "height": 330
    },
    "executionInfo": {
     "elapsed": 665,
     "status": "ok",
     "timestamp": 1652009686440,
     "user": {
      "displayName": "Phuoc Tri Vo",
      "userId": "16150899667672929104"
     },
     "user_tz": -420
    },
    "id": "mFY8mDUCPkcK",
    "outputId": "7e93f9d6-904b-4c9f-97c3-678ca5bfd9fc"
   },
   "outputs": [
    {
     "name": "stdout",
     "output_type": "stream",
     "text": [
      "   IQ = ( 4.425884575747165 ) * diem_2 + ( 97.14239093095156 )\n",
      "\n"
     ]
    },
    {
     "data": {
      "image/png": "[encoded data removed]",
      "text/plain": [
       "<Figure size 432x288 with 1 Axes>"
      ]
     },
     "metadata": {
      "needs_background": "light"
     },
     "output_type": "display_data"
    }
   ],
   "source": [
    "# Nhận xét kết quả khi dùng diem_5 để dự đoán chỉ số IQ.\n",
    "slope, bias = predict_cov(data_2[\"diem_5\"].values, data_2[\"IQ\"].values)\n",
    "cov_predict5 = data_2[\"diem_5\"].values*slope + bias\n",
    "theta5 = gradient_descent_2(0.01, np.c_[np.ones(len(data_2)), data_2[\"diem_5\"].values], np.array(data_2[\"IQ\"].values), 1000)\n",
    "GD_predict5 = theta5[1]*data_2[\"diem_5\"]+theta5[0]\n",
    "#Truc quan hoa du lieu\n",
    "plt.scatter(data_2[\"diem_5\"], data_2[\"IQ\"])\n",
    "plt.plot(data_2[\"diem_5\"], cov_predict5, label=\"Du bao theo cov\")\n",
    "plt.plot(data_2[\"diem_5\"], GD_predict5, label=\"Du bao theo Gradient Descent\")\n",
    "plt.xlabel(\"diem_5\")\n",
    "plt.ylabel(\"IQ\")\n",
    "plt.legend()\n",
    "plt.title(\"Truc quan hoa du lieu du bao\")\n",
    "plt.show()\n"
   ]
  },
  {
   "cell_type": "markdown",
   "metadata": {
    "id": "OIS56GVUv3xz"
   },
   "source": [
    "Những giá trị thực tế khá xa đường dự báo. Như vậy diem_5 không tốt so với những biến khác để dự báo cho IQ theo hiệp phương sai."
   ]
  }
 ],
 "metadata": {
  "colab": {
   "authorship_tag": "ABX9TyNTjo62Md2Ki9lhQmAT4R82",
   "collapsed_sections": [],
   "name": "Cau3.ipynb",
   "provenance": []
  },
  "kernelspec": {
   "display_name": "Python 3 (ipykernel)",
   "language": "python",
   "name": "python3"
  },
  "language_info": {
   "codemirror_mode": {
    "name": "ipython",
    "version": 3
   },
   "file_extension": ".py",
   "mimetype": "text/x-python",
   "name": "python",
   "nbconvert_exporter": "python",
   "pygments_lexer": "ipython3",
   "version": "3.8.12"
  }
 },
 "nbformat": 4,
 "nbformat_minor": 1
}
